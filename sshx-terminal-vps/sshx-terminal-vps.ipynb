{
  "cells": [
    {
      "cell_type": "markdown",
      "source": [
        "**A secure web-based, collaborative terminal**"
      ],
      "metadata": {
        "id": "MRV5OEO7aH40"
      }
    },
    {
      "cell_type": "markdown",
      "source": [
        "<font color=GREEN size=4><b>[𝐖𝐎𝐎𝐃𝐜𝐫𝐚𝐟𝐭](https://t.me/Farooq_is_KING)</b></font>\n",
        "<center><img src=\"https://github.com/SudoR2spr/SudoR2spr/raw/main/assets/line-neon.gif\" width=\"100%\"><center>\n",
        "<center><img src=\"https://sshx.io/_app/immutable/assets/logotype-dark.05834138.svg\" alt=\"WD Logo\" height=\"100\"></center>\n",
        "<center><p>Install sshx with a single command. Use it for teaching, debugging, or cloud access.</p>\n",
        "<img src=\"https://github.com/SudoR2spr/SudoR2spr/raw/main/assets/line-neon.gif\" width=\"100%\"></center>\n",
        "<p><b>Site Link:</b> https://sshx.io </p>\n",
        "<p><b>Repo Link:</b> https://github.com/ekzhang/sshx </p>\n",
        "\n",
        "\n",
        "[![Typing SVG](https://readme-typing-svg.herokuapp.com?font=Fira+Code&pause=1000&color=4250F7&background=FF512800&center=true&vCenter=true&width=435&lines=%F0%9D%90%96%F0%9D%90%8E%F0%9D%90%8E%F0%9D%90%83%F0%9D%90%9C%F0%9D%90%AB%F0%9D%90%9A%F0%9D%90%9F%F0%9D%90%AD+%F0%9D%90%8C%F0%9D%90%A2%F0%9D%90%AB%F0%9D%90%AB%F0%9D%90%A8%F0%9D%90%AB+%F0%9D%90%99%F0%9D%90%A8%F0%9D%90%A7%F0%9D%90%9E%E2%84%A2)](https://git.io/typing-svg)</p></center>"
      ],
      "metadata": {
        "id": "S85x6J98YPcz"
      }
    },
    {
      "cell_type": "markdown",
      "source": [
        "####<font color=blue size=3><b>✍️ How to install First login with Gmail ID\n",
        "Then click on connect button on top right,\n",
        "Then click on round button on bottom left, see below there is a link open in new tab. and use...</b></font>\n",
        "\n",
        "\n",
        "####<font color=red size=3><b>⚠ Warning</b></font>\n",
        "##<font color=GREEN size=2><b>✉️ Be careful not to use any illegal content</b></font>\n"
      ],
      "metadata": {
        "id": "i6mNVrgLfyCg"
      }
    },
    {
      "cell_type": "markdown",
      "source": [
        "####<font color=blue size=4><b>👇 Resources Used Run</b></font>"
      ],
      "metadata": {
        "id": "AhTsrxbPhcGI"
      }
    },
    {
      "cell_type": "code",
      "source": [
        "!curl -sSf https://sshx.io/get | sh -s run"
      ],
      "metadata": {
        "id": "o74na3T_gvb4"
      },
      "execution_count": null,
      "outputs": []
    },
    {
      "cell_type": "markdown",
      "source": [
        "# [❖ 𝐖𝐃 𝐙𝐎𝐍𝐄 ❖ ™](https://t.me/Opleech_WD)<font color=blue size=4><b>  Telegram link</b></font>"
      ],
      "metadata": {
        "id": "Up3CyKGojazX"
      }
    }
  ],
  "metadata": {
    "colab": {
      "name": "Welcome To Colab",
      "toc_visible": true,
      "provenance": []
    },
    "kernelspec": {
      "display_name": "Python 3",
      "name": "python3"
    }
  },
  "nbformat": 4,
  "nbformat_minor": 0
}